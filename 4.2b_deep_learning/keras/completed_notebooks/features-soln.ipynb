{
 "cells": [
  {
   "cell_type": "markdown",
   "metadata": {},
   "source": [
    "# CNN Transfer Learning on Cats-Dogs Classification\n",
    "\n",
    "### VGG16 trained on ImageNet data is used as pre-trained model from which to extract features.  Features are then saved, and passed through neural network with ReLu hidden layer to classify cats vs. dogs.\n",
    "\n",
    "#### Adapted from fchollet/classifier_from_little_data_script_2.py (https://gist.github.com/fchollet/f35fbc80e066a49d65f1688a7e99f069) and blog https://blog.keras.io/building-powerful-image-classification-models-using-very-little-data.html"
   ]
  },
  {
   "cell_type": "code",
   "execution_count": 1,
   "metadata": {},
   "outputs": [
    {
     "name": "stderr",
     "output_type": "stream",
     "text": [
      "Using TensorFlow backend.\n"
     ]
    }
   ],
   "source": [
    "import keras"
   ]
  },
  {
   "cell_type": "code",
   "execution_count": 2,
   "metadata": {},
   "outputs": [],
   "source": [
    "from keras.models import Sequential\n",
    "from keras.preprocessing.image import ImageDataGenerator\n",
    "from keras.layers import Dropout, Flatten, Dense\n",
    "from keras import backend as K\n",
    "from keras import applications\n",
    "import numpy as np\n",
    "import tensorflow as tf"
   ]
  },
  {
   "cell_type": "code",
   "execution_count": 3,
   "metadata": {},
   "outputs": [
    {
     "name": "stdout",
     "output_type": "stream",
     "text": [
      "1.14.0\n",
      "2.2.4\n"
     ]
    }
   ],
   "source": [
    "print (tf.__version__)\n",
    "print (keras.__version__)"
   ]
  },
  {
   "cell_type": "code",
   "execution_count": 4,
   "metadata": {},
   "outputs": [],
   "source": [
    "# Set logging level\n",
    "tf.logging.set_verbosity(tf.logging.ERROR)"
   ]
  },
  {
   "cell_type": "code",
   "execution_count": 5,
   "metadata": {},
   "outputs": [],
   "source": [
    "# Set random generator seed\n",
    "seed = 123\n",
    "\n",
    "# Set python built-in random generator\n",
    "import random                             \n",
    "random.seed(seed)\n",
    "\n",
    "# Set numpy random generator\n",
    "np.random.seed(seed)\n",
    "\n",
    "# Set tensorflow random generator\n",
    "tf.random.set_random_seed(seed)"
   ]
  },
  {
   "cell_type": "markdown",
   "metadata": {},
   "source": [
    "### Set dimensions, number, and location of images"
   ]
  },
  {
   "cell_type": "code",
   "execution_count": 6,
   "metadata": {},
   "outputs": [
    {
     "name": "stdout",
     "output_type": "stream",
     "text": [
      "(150, 150, 3)\n"
     ]
    }
   ],
   "source": [
    "# Image dimensions\n",
    "img_width, img_height = 150, 150\n",
    "\n",
    "# Location of images\n",
    "train_data_dir = 'data/train'\n",
    "validation_data_dir = 'data/validation'\n",
    "\n",
    "if K.image_data_format() == 'channels_first':\n",
    "    input_shape = (3, img_width, img_height)\n",
    "else:\n",
    "    input_shape = (img_width, img_height, 3)\n",
    "    \n",
    "print (input_shape)\n",
    "\n",
    "# Number of images\n",
    "nb_train_samples = 2000\n",
    "nb_validation_samples = 800\n",
    "\n",
    "# Batch size\n",
    "batch_size = 16"
   ]
  },
  {
   "cell_type": "markdown",
   "metadata": {},
   "source": [
    "### Method to extract features from pre-trained network and save features"
   ]
  },
  {
   "cell_type": "code",
   "execution_count": 7,
   "metadata": {},
   "outputs": [],
   "source": [
    "def save_features():\n",
    "    \n",
    "    # Scale pixel values in image\n",
    "    datagen = ImageDataGenerator(rescale=1. / 255)\n",
    "\n",
    "    # Load the VGG16 network's imagenet weights, not including the last fully connected layers.\n",
    "    model = applications.VGG16(include_top=False, weights='imagenet')\n",
    "\n",
    "    # Generator that will read pictures found in subfolders of training data directory,\n",
    "    # and indefinitely generate batches of image data (scaled)\n",
    "    generator = datagen.flow_from_directory(\n",
    "        train_data_dir,\n",
    "        target_size=(img_width, img_height),\n",
    "        batch_size=batch_size,\n",
    "        class_mode=None,        # Generator will only yield batches of data, no labels\n",
    "        shuffle=False)          # Data will be presented in order, i.e., 1000 cat images, then 1000 dog images\n",
    "    \n",
    "    # The predict_generator method returns the output of the model, given input provided by a generator\n",
    "    # that yields batches of numpy data\n",
    "    features_train = model.predict_generator(\n",
    "        generator, nb_train_samples // batch_size)\n",
    "    \n",
    "    # Save model outputs (i.e., features) from model as numpy array\n",
    "    np.save('features_train.npy', features_train) \n",
    "\n",
    "    # Generator to generator validation input for model\n",
    "    generator = datagen.flow_from_directory(\n",
    "        validation_data_dir,\n",
    "        target_size=(img_width, img_height),\n",
    "        batch_size=batch_size,\n",
    "        class_mode=None,\n",
    "        shuffle=False)\n",
    "    \n",
    "    # Get model output for validation data\n",
    "    features_validation = model.predict_generator(\n",
    "        generator, nb_validation_samples // batch_size)\n",
    "    \n",
    "    # Save model outputs (i.e., features) for validation data\n",
    "    np.save('features_validation.npy', features_validation) \n",
    "    \n",
    "    # Print out model architecture\n",
    "    model.summary()"
   ]
  },
  {
   "cell_type": "code",
   "execution_count": 8,
   "metadata": {
    "scrolled": true
   },
   "outputs": [
    {
     "name": "stdout",
     "output_type": "stream",
     "text": [
      "Found 2000 images belonging to 2 classes.\n",
      "Found 800 images belonging to 2 classes.\n",
      "_________________________________________________________________\n",
      "Layer (type)                 Output Shape              Param #   \n",
      "=================================================================\n",
      "input_1 (InputLayer)         (None, None, None, 3)     0         \n",
      "_________________________________________________________________\n",
      "block1_conv1 (Conv2D)        (None, None, None, 64)    1792      \n",
      "_________________________________________________________________\n",
      "block1_conv2 (Conv2D)        (None, None, None, 64)    36928     \n",
      "_________________________________________________________________\n",
      "block1_pool (MaxPooling2D)   (None, None, None, 64)    0         \n",
      "_________________________________________________________________\n",
      "block2_conv1 (Conv2D)        (None, None, None, 128)   73856     \n",
      "_________________________________________________________________\n",
      "block2_conv2 (Conv2D)        (None, None, None, 128)   147584    \n",
      "_________________________________________________________________\n",
      "block2_pool (MaxPooling2D)   (None, None, None, 128)   0         \n",
      "_________________________________________________________________\n",
      "block3_conv1 (Conv2D)        (None, None, None, 256)   295168    \n",
      "_________________________________________________________________\n",
      "block3_conv2 (Conv2D)        (None, None, None, 256)   590080    \n",
      "_________________________________________________________________\n",
      "block3_conv3 (Conv2D)        (None, None, None, 256)   590080    \n",
      "_________________________________________________________________\n",
      "block3_pool (MaxPooling2D)   (None, None, None, 256)   0         \n",
      "_________________________________________________________________\n",
      "block4_conv1 (Conv2D)        (None, None, None, 512)   1180160   \n",
      "_________________________________________________________________\n",
      "block4_conv2 (Conv2D)        (None, None, None, 512)   2359808   \n",
      "_________________________________________________________________\n",
      "block4_conv3 (Conv2D)        (None, None, None, 512)   2359808   \n",
      "_________________________________________________________________\n",
      "block4_pool (MaxPooling2D)   (None, None, None, 512)   0         \n",
      "_________________________________________________________________\n",
      "block5_conv1 (Conv2D)        (None, None, None, 512)   2359808   \n",
      "_________________________________________________________________\n",
      "block5_conv2 (Conv2D)        (None, None, None, 512)   2359808   \n",
      "_________________________________________________________________\n",
      "block5_conv3 (Conv2D)        (None, None, None, 512)   2359808   \n",
      "_________________________________________________________________\n",
      "block5_pool (MaxPooling2D)   (None, None, None, 512)   0         \n",
      "=================================================================\n",
      "Total params: 14,714,688\n",
      "Trainable params: 14,714,688\n",
      "Non-trainable params: 0\n",
      "_________________________________________________________________\n"
     ]
    }
   ],
   "source": [
    "save_features()"
   ]
  },
  {
   "cell_type": "markdown",
   "metadata": {},
   "source": [
    "### Load saved features"
   ]
  },
  {
   "cell_type": "code",
   "execution_count": 9,
   "metadata": {},
   "outputs": [
    {
     "name": "stdout",
     "output_type": "stream",
     "text": [
      "(2000,) (800,)\n"
     ]
    }
   ],
   "source": [
    "# Load saved features for train data\n",
    "train_data = np.load('features_train.npy')\n",
    "    \n",
    "# Create labels for train data.  Images were generated in order, so creating labels is easy.\n",
    "train_labels = np.array([0] * (nb_train_samples // 2) + [1] * (nb_train_samples // 2)) \n",
    "\n",
    "# Load saved features for validation data\n",
    "validation_data = np.load('features_validation.npy') \n",
    "    \n",
    "# Create labels for validation data\n",
    "validation_labels = np.array([0] * (nb_validation_samples // 2) + [1] * (nb_validation_samples // 2)) \n",
    "    \n",
    "print (train_labels.shape, validation_labels.shape)"
   ]
  },
  {
   "cell_type": "markdown",
   "metadata": {},
   "source": [
    "### Create top model"
   ]
  },
  {
   "cell_type": "code",
   "execution_count": 10,
   "metadata": {
    "scrolled": true
   },
   "outputs": [
    {
     "name": "stdout",
     "output_type": "stream",
     "text": [
      "<keras.engine.sequential.Sequential object at 0x2afe9e8239b0>\n",
      "_________________________________________________________________\n",
      "Layer (type)                 Output Shape              Param #   \n",
      "=================================================================\n",
      "flatten_1 (Flatten)          (None, 8192)              0         \n",
      "_________________________________________________________________\n",
      "dense_1 (Dense)              (None, 256)               2097408   \n",
      "_________________________________________________________________\n",
      "dropout_1 (Dropout)          (None, 256)               0         \n",
      "_________________________________________________________________\n",
      "dense_2 (Dense)              (None, 1)                 257       \n",
      "=================================================================\n",
      "Total params: 2,097,665\n",
      "Trainable params: 2,097,665\n",
      "Non-trainable params: 0\n",
      "_________________________________________________________________\n"
     ]
    }
   ],
   "source": [
    "# Create fully connected layer on top of model\n",
    "top_model = Sequential()\n",
    "top_model.add(Flatten(input_shape=train_data.shape[1:]))  # Convert 3D feature maps to 1D feature vectors\n",
    "top_model.add(Dense(256, activation='relu'))\n",
    "top_model.add(Dropout(0.5))\n",
    "top_model.add(Dense(1, activation='sigmoid'))\n",
    "\n",
    "# Create model\n",
    "top_model.compile(optimizer='rmsprop',\n",
    "              loss='binary_crossentropy', \n",
    "              metrics=['accuracy'])\n",
    "print(top_model)\n",
    "top_model.summary()\n"
   ]
  },
  {
   "cell_type": "markdown",
   "metadata": {},
   "source": [
    "### Train top model"
   ]
  },
  {
   "cell_type": "code",
   "execution_count": 11,
   "metadata": {},
   "outputs": [
    {
     "name": "stdout",
     "output_type": "stream",
     "text": [
      "Train on 2000 samples, validate on 800 samples\n",
      "Epoch 1/50\n",
      "2000/2000 [==============================] - 1s 496us/step - loss: 0.6682 - acc: 0.7640 - val_loss: 0.4612 - val_acc: 0.7963\n",
      "Epoch 2/50\n",
      "2000/2000 [==============================] - 1s 289us/step - loss: 0.3741 - acc: 0.8520 - val_loss: 0.2527 - val_acc: 0.9000\n",
      "Epoch 3/50\n",
      "2000/2000 [==============================] - 1s 287us/step - loss: 0.2793 - acc: 0.8865 - val_loss: 0.6465 - val_acc: 0.7612\n",
      "Epoch 4/50\n",
      "2000/2000 [==============================] - 1s 285us/step - loss: 0.2752 - acc: 0.8925 - val_loss: 0.3668 - val_acc: 0.8550\n",
      "Epoch 5/50\n",
      "2000/2000 [==============================] - 1s 285us/step - loss: 0.2201 - acc: 0.9230 - val_loss: 0.2577 - val_acc: 0.8988\n",
      "Epoch 6/50\n",
      "2000/2000 [==============================] - 1s 286us/step - loss: 0.1996 - acc: 0.9240 - val_loss: 0.2825 - val_acc: 0.9038\n",
      "Epoch 7/50\n",
      "2000/2000 [==============================] - 1s 287us/step - loss: 0.1603 - acc: 0.9405 - val_loss: 0.3265 - val_acc: 0.8950\n",
      "Epoch 8/50\n",
      "2000/2000 [==============================] - 1s 286us/step - loss: 0.1759 - acc: 0.9355 - val_loss: 0.2847 - val_acc: 0.9025\n",
      "Epoch 9/50\n",
      "2000/2000 [==============================] - 1s 289us/step - loss: 0.1362 - acc: 0.9410 - val_loss: 0.3685 - val_acc: 0.8962\n",
      "Epoch 10/50\n",
      "2000/2000 [==============================] - 1s 286us/step - loss: 0.1170 - acc: 0.9555 - val_loss: 0.4765 - val_acc: 0.8850\n",
      "Epoch 11/50\n",
      "2000/2000 [==============================] - 1s 287us/step - loss: 0.1082 - acc: 0.9620 - val_loss: 0.4386 - val_acc: 0.8875\n",
      "Epoch 12/50\n",
      "2000/2000 [==============================] - 1s 286us/step - loss: 0.0977 - acc: 0.9640 - val_loss: 0.4907 - val_acc: 0.8925\n",
      "Epoch 13/50\n",
      "2000/2000 [==============================] - 1s 286us/step - loss: 0.1044 - acc: 0.9620 - val_loss: 0.4290 - val_acc: 0.8962\n",
      "Epoch 14/50\n",
      "2000/2000 [==============================] - 1s 285us/step - loss: 0.0867 - acc: 0.9675 - val_loss: 0.4851 - val_acc: 0.8975\n",
      "Epoch 15/50\n",
      "2000/2000 [==============================] - 1s 286us/step - loss: 0.0723 - acc: 0.9725 - val_loss: 0.5683 - val_acc: 0.8862\n",
      "Epoch 16/50\n",
      "2000/2000 [==============================] - 1s 291us/step - loss: 0.0589 - acc: 0.9770 - val_loss: 0.5479 - val_acc: 0.9000\n",
      "Epoch 17/50\n",
      "2000/2000 [==============================] - 1s 287us/step - loss: 0.0667 - acc: 0.9760 - val_loss: 0.5363 - val_acc: 0.8962\n",
      "Epoch 18/50\n",
      "2000/2000 [==============================] - 1s 284us/step - loss: 0.0446 - acc: 0.9820 - val_loss: 0.5748 - val_acc: 0.8912\n",
      "Epoch 19/50\n",
      "2000/2000 [==============================] - 1s 289us/step - loss: 0.0535 - acc: 0.9815 - val_loss: 0.5088 - val_acc: 0.9012\n",
      "Epoch 20/50\n",
      "2000/2000 [==============================] - 1s 290us/step - loss: 0.0440 - acc: 0.9865 - val_loss: 0.6431 - val_acc: 0.8888\n",
      "Epoch 21/50\n",
      "2000/2000 [==============================] - 1s 287us/step - loss: 0.0495 - acc: 0.9855 - val_loss: 0.6288 - val_acc: 0.8900\n",
      "Epoch 22/50\n",
      "2000/2000 [==============================] - 1s 286us/step - loss: 0.0330 - acc: 0.9870 - val_loss: 0.7306 - val_acc: 0.8888\n",
      "Epoch 23/50\n",
      "2000/2000 [==============================] - 1s 287us/step - loss: 0.0488 - acc: 0.9850 - val_loss: 0.5734 - val_acc: 0.9038\n",
      "Epoch 24/50\n",
      "2000/2000 [==============================] - 1s 285us/step - loss: 0.0372 - acc: 0.9885 - val_loss: 0.6251 - val_acc: 0.8975\n",
      "Epoch 25/50\n",
      "2000/2000 [==============================] - 1s 285us/step - loss: 0.0254 - acc: 0.9915 - val_loss: 0.6271 - val_acc: 0.8988\n",
      "Epoch 26/50\n",
      "2000/2000 [==============================] - 1s 285us/step - loss: 0.0315 - acc: 0.9915 - val_loss: 0.7747 - val_acc: 0.8900\n",
      "Epoch 27/50\n",
      "2000/2000 [==============================] - 1s 287us/step - loss: 0.0229 - acc: 0.9905 - val_loss: 0.7652 - val_acc: 0.8962\n",
      "Epoch 28/50\n",
      "2000/2000 [==============================] - 1s 287us/step - loss: 0.0380 - acc: 0.9915 - val_loss: 0.8796 - val_acc: 0.8862\n",
      "Epoch 29/50\n",
      "2000/2000 [==============================] - 1s 287us/step - loss: 0.0210 - acc: 0.9920 - val_loss: 0.6868 - val_acc: 0.8962\n",
      "Epoch 30/50\n",
      "2000/2000 [==============================] - 1s 286us/step - loss: 0.0142 - acc: 0.9955 - val_loss: 0.7520 - val_acc: 0.9000\n",
      "Epoch 31/50\n",
      "2000/2000 [==============================] - 1s 289us/step - loss: 0.0156 - acc: 0.9960 - val_loss: 0.8423 - val_acc: 0.8950\n",
      "Epoch 32/50\n",
      "2000/2000 [==============================] - 1s 286us/step - loss: 0.0197 - acc: 0.9945 - val_loss: 0.8339 - val_acc: 0.8962\n",
      "Epoch 33/50\n",
      "2000/2000 [==============================] - 1s 291us/step - loss: 0.0167 - acc: 0.9955 - val_loss: 0.7665 - val_acc: 0.8988\n",
      "Epoch 34/50\n",
      "2000/2000 [==============================] - 1s 292us/step - loss: 0.0144 - acc: 0.9950 - val_loss: 0.8304 - val_acc: 0.9025\n",
      "Epoch 35/50\n",
      "2000/2000 [==============================] - 1s 286us/step - loss: 0.0257 - acc: 0.9925 - val_loss: 0.9030 - val_acc: 0.8862\n",
      "Epoch 36/50\n",
      "2000/2000 [==============================] - 1s 286us/step - loss: 0.0086 - acc: 0.9950 - val_loss: 0.8828 - val_acc: 0.8900\n",
      "Epoch 37/50\n",
      "2000/2000 [==============================] - 1s 289us/step - loss: 0.0097 - acc: 0.9965 - val_loss: 0.8282 - val_acc: 0.9012\n",
      "Epoch 38/50\n",
      "2000/2000 [==============================] - 1s 290us/step - loss: 0.0152 - acc: 0.9960 - val_loss: 1.1027 - val_acc: 0.8700\n",
      "Epoch 39/50\n",
      "2000/2000 [==============================] - 1s 287us/step - loss: 0.0124 - acc: 0.9965 - val_loss: 0.9192 - val_acc: 0.8962\n",
      "Epoch 40/50\n",
      "2000/2000 [==============================] - 1s 290us/step - loss: 0.0105 - acc: 0.9955 - val_loss: 0.8946 - val_acc: 0.8975\n",
      "Epoch 41/50\n",
      "2000/2000 [==============================] - 1s 291us/step - loss: 0.0140 - acc: 0.9955 - val_loss: 0.8894 - val_acc: 0.9025\n",
      "Epoch 42/50\n",
      "2000/2000 [==============================] - 1s 286us/step - loss: 0.0185 - acc: 0.9940 - val_loss: 0.9677 - val_acc: 0.9000\n",
      "Epoch 43/50\n",
      "2000/2000 [==============================] - 1s 288us/step - loss: 0.0136 - acc: 0.9960 - val_loss: 0.8873 - val_acc: 0.9025\n",
      "Epoch 44/50\n",
      "2000/2000 [==============================] - 1s 290us/step - loss: 0.0055 - acc: 0.9985 - val_loss: 1.0236 - val_acc: 0.8912\n",
      "Epoch 45/50\n",
      "2000/2000 [==============================] - 1s 290us/step - loss: 0.0195 - acc: 0.9955 - val_loss: 0.9713 - val_acc: 0.9012\n",
      "Epoch 46/50\n",
      "2000/2000 [==============================] - 1s 294us/step - loss: 0.0109 - acc: 0.9975 - val_loss: 1.0997 - val_acc: 0.8788\n",
      "Epoch 47/50\n",
      "2000/2000 [==============================] - 1s 286us/step - loss: 0.0144 - acc: 0.9955 - val_loss: 0.9683 - val_acc: 0.8988\n",
      "Epoch 48/50\n",
      "2000/2000 [==============================] - 1s 287us/step - loss: 0.0049 - acc: 0.9985 - val_loss: 0.9803 - val_acc: 0.8925\n",
      "Epoch 49/50\n",
      "2000/2000 [==============================] - 1s 287us/step - loss: 0.0092 - acc: 0.9980 - val_loss: 0.9353 - val_acc: 0.8975\n",
      "Epoch 50/50\n",
      "2000/2000 [==============================] - 1s 284us/step - loss: 0.0097 - acc: 0.9980 - val_loss: 1.0752 - val_acc: 0.8912\n"
     ]
    }
   ],
   "source": [
    "# Set up model\n",
    "epochs = 50\n",
    "\n",
    "# Train model, keeping track of history\n",
    "from keras.callbacks import History\n",
    "hist = top_model.fit(train_data, train_labels,\n",
    "                 epochs=epochs,\n",
    "                 batch_size=batch_size,\n",
    "                 validation_data=(validation_data, validation_labels))"
   ]
  },
  {
   "cell_type": "markdown",
   "metadata": {},
   "source": [
    "### Save model and weights"
   ]
  },
  {
   "cell_type": "code",
   "execution_count": 12,
   "metadata": {},
   "outputs": [
    {
     "name": "stdout",
     "output_type": "stream",
     "text": [
      "['loss', 'acc']\n",
      "800/800 [==============================] - 0s 47us/step\n",
      "[1.0752057370793773, 0.89125]\n"
     ]
    }
   ],
   "source": [
    "# Save model & weights to HDF5 file\n",
    "top_model_file = 'features_model' \n",
    "top_model.save(top_model_file + '.h5')\n",
    "\n",
    "# Save model to JSON file & weights to HDF5 file\n",
    "top_model_json = top_model.to_json()\n",
    "with open(top_model_file + '.json','w') as json_file:\n",
    "    json_file.write(top_model_json)\n",
    "top_model.save_weights(top_model_file+'-wts.h5')\n",
    "\n",
    "# Results on validation set\n",
    "print (top_model.metrics_names)\n",
    "results = top_model.evaluate (validation_data, validation_labels)\n",
    "print (results)"
   ]
  },
  {
   "cell_type": "markdown",
   "metadata": {
    "collapsed": true
   },
   "source": [
    "### Load model again and test"
   ]
  },
  {
   "cell_type": "code",
   "execution_count": 13,
   "metadata": {},
   "outputs": [
    {
     "name": "stdout",
     "output_type": "stream",
     "text": [
      "(800,)\n",
      "['loss', 'acc']\n",
      "800/800 [==============================] - 0s 115us/step\n",
      "[1.0752057370793773, 0.89125]\n"
     ]
    }
   ],
   "source": [
    "top_model2 = keras.models.load_model(top_model_file+'.h5')\n",
    "print (validation_labels.shape)\n",
    "\n",
    "print (top_model2.metrics_names)\n",
    "results = top_model2.evaluate(validation_data, validation_labels)\n",
    "print (results)"
   ]
  },
  {
   "cell_type": "markdown",
   "metadata": {},
   "source": [
    "### Print training history"
   ]
  },
  {
   "cell_type": "code",
   "execution_count": 14,
   "metadata": {},
   "outputs": [
    {
     "name": "stdout",
     "output_type": "stream",
     "text": [
      "{'val_loss': [0.46121483635157345, 0.2527155252173543, 0.6465335841127672, 0.36684080569073557, 0.25768382363021375, 0.2824503204133362, 0.3265056228544563, 0.2847060520760715, 0.3684620737377554, 0.476511753462255, 0.4385996869741939, 0.4906920578633435, 0.4290075692522805, 0.4851451185930637, 0.5683167743463128, 0.5479437365545892, 0.5363407289536554, 0.5747882935038069, 0.5088488167879405, 0.6431072643046718, 0.6288321653020467, 0.7306401976462769, 0.5733797401555785, 0.6250753047404578, 0.627068932181287, 0.7747057134602438, 0.76521593368504, 0.8796431314735788, 0.6868267187274978, 0.7519726292143969, 0.8423020712530888, 0.833870658127571, 0.7664608075119395, 0.8304027832638576, 0.9030322267045346, 0.8828460527482764, 0.828241996122888, 1.1027170819384589, 0.9192180459750483, 0.8946301585946455, 0.8893841055536745, 0.9676686582262919, 0.8872705064559141, 1.023587653291513, 0.9712612412010583, 1.0996841933556945, 0.9683264672734099, 0.9803338529772907, 0.935250818279506, 1.0752057434523496], 'val_acc': [0.79625, 0.9, 0.76125, 0.855, 0.89875, 0.90375, 0.895, 0.9025, 0.89625, 0.885, 0.8875, 0.8925, 0.89625, 0.8975, 0.88625, 0.9, 0.89625, 0.89125, 0.90125, 0.88875, 0.89, 0.88875, 0.90375, 0.8975, 0.89875, 0.89, 0.89625, 0.88625, 0.89625, 0.9, 0.895, 0.89625, 0.89875, 0.9025, 0.88625, 0.89, 0.90125, 0.87, 0.89625, 0.8975, 0.9025, 0.9, 0.9025, 0.89125, 0.90125, 0.87875, 0.89875, 0.8925, 0.8975, 0.89125], 'loss': [0.6682485520243645, 0.37413239312171936, 0.2793436031937599, 0.2752309905104339, 0.22007047387585044, 0.19963150429725646, 0.1602766409832984, 0.1759248645280022, 0.1361698115579784, 0.11695504417736083, 0.10820263718953356, 0.0977268566940911, 0.10439973598357756, 0.08670743927266449, 0.07232105752953794, 0.058903263821586734, 0.06671638738063485, 0.04461518337194866, 0.05351635650827666, 0.04395588645106181, 0.0494560287513159, 0.03296456761022273, 0.04875241089673, 0.03715660854655698, 0.025373351790773994, 0.03151056238200772, 0.02292546618911001, 0.03798287978619601, 0.020966046146318376, 0.014233816517810055, 0.01560706400184938, 0.019665200528310833, 0.01670378122309603, 0.014385199951939341, 0.025661661167232806, 0.008567672820853203, 0.009650425934996633, 0.015220470994069502, 0.012408096729814019, 0.010519484307213873, 0.014028229339143593, 0.01848752677715845, 0.013646974740181804, 0.005525286431231166, 0.019520025725891912, 0.010935722254369467, 0.014398697886486445, 0.004886734599440331, 0.009206894349839217, 0.009694072837697831], 'acc': [0.764, 0.852, 0.8865, 0.8925, 0.923, 0.924, 0.9405, 0.9355, 0.941, 0.9555, 0.962, 0.964, 0.962, 0.9675, 0.9725, 0.977, 0.976, 0.982, 0.9815, 0.9865, 0.9855, 0.987, 0.985, 0.9885, 0.9915, 0.9915, 0.9905, 0.9915, 0.992, 0.9955, 0.996, 0.9945, 0.9955, 0.995, 0.9925, 0.995, 0.9965, 0.996, 0.9965, 0.9955, 0.9955, 0.994, 0.996, 0.9985, 0.9955, 0.9975, 0.9955, 0.9985, 0.998, 0.998]}\n"
     ]
    }
   ],
   "source": [
    "print (hist.history)"
   ]
  },
  {
   "cell_type": "markdown",
   "metadata": {},
   "source": [
    "### Plot performance metrics"
   ]
  },
  {
   "cell_type": "code",
   "execution_count": 15,
   "metadata": {},
   "outputs": [
    {
     "data": {
      "image/png": "[encoded data removed]",
      "text/plain": [
       "<Figure size 432x288 with 1 Axes>"
      ]
     },
     "metadata": {
      "needs_background": "light"
     },
     "output_type": "display_data"
    }
   ],
   "source": [
    "import matplotlib.pyplot as plt\n",
    "%matplotlib inline\n",
    "\n",
    "result = hist.history\n",
    "\n",
    "# summarize history for accuracy\n",
    "plt.plot(result['acc'])\n",
    "plt.plot(result['val_acc'])\n",
    "plt.title('model accuracy')\n",
    "plt.ylabel('accuracy')\n",
    "plt.xlabel('epoch')\n",
    "plt.legend(['train', 'val'], loc='upper left')\n",
    "plt.show()"
   ]
  },
  {
   "cell_type": "code",
   "execution_count": null,
   "metadata": {},
   "outputs": [],
   "source": []
  }
 ],
 "metadata": {
  "kernelspec": {
   "display_name": "Python 3",
   "language": "python",
   "name": "python3"
  },
  "language_info": {
   "codemirror_mode": {
    "name": "ipython",
    "version": 3
   },
   "file_extension": ".py",
   "mimetype": "text/x-python",
   "name": "python",
   "nbconvert_exporter": "python",
   "pygments_lexer": "ipython3",
   "version": "3.7.4"
  }
 },
 "nbformat": 4,
 "nbformat_minor": 2
}
