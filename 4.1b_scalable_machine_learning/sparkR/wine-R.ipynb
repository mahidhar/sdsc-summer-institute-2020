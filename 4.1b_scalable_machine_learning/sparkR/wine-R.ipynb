{
 "cells": [
  {
   "cell_type": "markdown",
   "metadata": {},
   "source": [
    "# Wine Quality Classification - Spark R Jupyter Notebook\n",
    "\n",
    "## SDSC Summer Institute"
   ]
  },
  {
   "cell_type": "markdown",
   "metadata": {},
   "source": [
    "## Set up environment"
   ]
  },
  {
   "cell_type": "code",
   "execution_count": null,
   "metadata": {
    "scrolled": true
   },
   "outputs": [],
   "source": [
    "# Start Spark session\n",
    "\n",
    "library(SparkR, lib.loc = c(file.path(Sys.getenv(\"SPARK_HOME\"), \"R\", \"lib\")))\n",
    "sparkR.session(master=\"local[*]\", \n",
    "               sparkConfig=list(spark.driver.memory=\"2g\"),\n",
    "                               (spark.app.name=\"SparkR Wine Quality Classification\"))"
   ]
  },
  {
   "cell_type": "code",
   "execution_count": null,
   "metadata": {},
   "outputs": [],
   "source": [
    "# Print software versions\n",
    "\n",
    "R.Version()$version.string\n",
    "Sys.getenv(\"SPARK_HOME\")\n",
    "sparkR.version()"
   ]
  },
  {
   "cell_type": "markdown",
   "metadata": {},
   "source": [
    "## Read in data"
   ]
  },
  {
   "cell_type": "code",
   "execution_count": null,
   "metadata": {},
   "outputs": [],
   "source": [
    "# Read data into a Spark dataframe\n",
    "# Data adapted from: https://archive.ics.uci.edu/ml/machine-learning-databases/wine-quality/winequality-white.csv\n",
    "\n",
    "sdf <- read.df(<<FILL-IN>>, \"csv\", header=\"true\", inferSchema=\"true\")"
   ]
  },
  {
   "cell_type": "code",
   "execution_count": null,
   "metadata": {},
   "outputs": [],
   "source": [
    "# Cache dataframe\n",
    "\n",
    "<<FILL-IN>>"
   ]
  },
  {
   "cell_type": "code",
   "execution_count": null,
   "metadata": {},
   "outputs": [],
   "source": [
    "# Examine schema\n",
    "\n",
    "<<FILL-IN>>"
   ]
  },
  {
   "cell_type": "markdown",
   "metadata": {},
   "source": [
    "## Prepare data"
   ]
  },
  {
   "cell_type": "code",
   "execution_count": null,
   "metadata": {},
   "outputs": [],
   "source": [
    "# Split into train & test sets\n",
    "\n",
    "seed <- 12345\n",
    "train_sdf <- sample(sdf, withReplacement=FALSE, fraction=0.7, seed=seed)\n",
    "test_sdf <- except (sdf, train_sdf)\n",
    "dim(train_sdf)                # Get dimensions of train dataset\n",
    "<<FILL-IN>>(test_sdf)         # Get dimensions of test dataset"
   ]
  },
  {
   "cell_type": "markdown",
   "metadata": {},
   "source": [
    "## Train random forest model"
   ]
  },
  {
   "cell_type": "code",
   "execution_count": null,
   "metadata": {
    "scrolled": true
   },
   "outputs": [],
   "source": [
    "model <- spark.randomForest(train_sdf, quality ~ ., type=<<FILL-IN>>, numTrees=30, seed=seed)\n",
    "head(summary(model))"
   ]
  },
  {
   "cell_type": "markdown",
   "metadata": {},
   "source": [
    "## Evaluate model"
   ]
  },
  {
   "cell_type": "code",
   "execution_count": null,
   "metadata": {},
   "outputs": [],
   "source": [
    "# Apply model to test data\n",
    "\n",
    "predictions_sdf <- predict(model, <<FILL-IN>>)\n",
    "class(predictions_sdf)"
   ]
  },
  {
   "cell_type": "code",
   "execution_count": null,
   "metadata": {},
   "outputs": [],
   "source": [
    "# Convert results from Spark DataFrame to R data.frame\n",
    "\n",
    "predictions_df <- as.data.frame(predictions_sdf)\n",
    "class(predictions_df)\n",
    "head(predictions_df)"
   ]
  },
  {
   "cell_type": "code",
   "execution_count": null,
   "metadata": {},
   "outputs": [],
   "source": [
    "# Calculate accuracy\n",
    "\n",
    "accuracy <- mean(predictions_df$quality == predictions_df$prediction)\n",
    "sprintf (\"Accuracy on Test Data:  %f\", <<FILL-IN>>)"
   ]
  },
  {
   "cell_type": "code",
   "execution_count": null,
   "metadata": {},
   "outputs": [],
   "source": [
    "# Confusion matrix\n",
    "\n",
    "table(predictions_df$quality, predictions_df$prediction)"
   ]
  },
  {
   "cell_type": "markdown",
   "metadata": {},
   "source": [
    "## Save model"
   ]
  },
  {
   "cell_type": "code",
   "execution_count": null,
   "metadata": {},
   "outputs": [],
   "source": [
    "# Save model (NOTE:  Existing model will be overwritten)\n",
    "\n",
    "write.ml(model, \"<<FILL-IN>>\", overwrite=TRUE)  # Fill in with name to save model to"
   ]
  },
  {
   "cell_type": "markdown",
   "metadata": {},
   "source": [
    "## Stop cluster"
   ]
  },
  {
   "cell_type": "code",
   "execution_count": null,
   "metadata": {},
   "outputs": [],
   "source": [
    "# Stop Spark cluster\n",
    "\n",
    "sparkR.stop()"
   ]
  },
  {
   "cell_type": "code",
   "execution_count": null,
   "metadata": {},
   "outputs": [],
   "source": []
  }
 ],
 "metadata": {
  "kernelspec": {
   "display_name": "R",
   "language": "R",
   "name": "ir"
  },
  "language_info": {
   "codemirror_mode": "r",
   "file_extension": ".r",
   "mimetype": "text/x-r-source",
   "name": "R",
   "pygments_lexer": "r",
   "version": "3.5.1"
  }
 },
 "nbformat": 4,
 "nbformat_minor": 2
}
